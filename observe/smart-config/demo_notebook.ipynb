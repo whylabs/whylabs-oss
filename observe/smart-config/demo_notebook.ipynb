{
 "cells": [
  {
   "cell_type": "markdown",
   "metadata": {
    "pycharm": {
     "name": "#%% md\n"
    }
   },
   "source": [
    "# Smart Config demo\n",
    "\n",
    "This demo shows how easy it is to create a set of monitors using the WhyLabs smart config library (a proposed extension to the whylabs_toolkit).\n",
    "\n",
    "You can use the library to set up a monitored resource with recommended monitors even before you have data. If you have a reference profile, the recommendations will be tailored based on that profile.\n",
    "\n",
    "## Install requirements"
   ]
  },
  {
   "cell_type": "code",
   "execution_count": 7,
   "metadata": {
    "pycharm": {
     "name": "#%%\n"
    }
   },
   "outputs": [
    {
     "name": "stdout",
     "output_type": "stream",
     "text": [
      "Requirement already satisfied: whylabs_toolkit in /Users/cdraper/miniconda3/envs/hackthis/lib/python3.9/site-packages (0.0.7)\r\n",
      "Requirement already satisfied: pandas in /Users/cdraper/miniconda3/envs/hackthis/lib/python3.9/site-packages (2.0.1)\r\n",
      "Requirement already satisfied: requests in /Users/cdraper/miniconda3/envs/hackthis/lib/python3.9/site-packages (2.29.0)\r\n",
      "Requirement already satisfied: jsonschema<5.0.0,>=4.17.3 in /Users/cdraper/miniconda3/envs/hackthis/lib/python3.9/site-packages (from whylabs_toolkit) (4.17.3)\r\n",
      "Requirement already satisfied: whylabs-client<0.6,>=0.5 in /Users/cdraper/miniconda3/envs/hackthis/lib/python3.9/site-packages (from whylabs_toolkit) (0.5.1)\r\n",
      "Requirement already satisfied: pydantic<2.0.0,>=1.10.4 in /Users/cdraper/miniconda3/envs/hackthis/lib/python3.9/site-packages (from whylabs_toolkit) (1.10.8)\r\n",
      "Requirement already satisfied: whylogs<2.0.0,>=1.1.26 in /Users/cdraper/miniconda3/envs/hackthis/lib/python3.9/site-packages (from whylabs_toolkit) (1.1.43)\r\n",
      "Requirement already satisfied: numpy>=1.20.3 in /Users/cdraper/miniconda3/envs/hackthis/lib/python3.9/site-packages (from pandas) (1.24.3)\r\n",
      "Requirement already satisfied: tzdata>=2022.1 in /Users/cdraper/miniconda3/envs/hackthis/lib/python3.9/site-packages (from pandas) (2023.3)\r\n",
      "Requirement already satisfied: pytz>=2020.1 in /Users/cdraper/miniconda3/envs/hackthis/lib/python3.9/site-packages (from pandas) (2022.7.1)\r\n",
      "Requirement already satisfied: python-dateutil>=2.8.2 in /Users/cdraper/miniconda3/envs/hackthis/lib/python3.9/site-packages (from pandas) (2.8.2)\r\n",
      "Requirement already satisfied: certifi>=2017.4.17 in /Users/cdraper/miniconda3/envs/hackthis/lib/python3.9/site-packages (from requests) (2022.12.7)\r\n",
      "Requirement already satisfied: idna<4,>=2.5 in /Users/cdraper/miniconda3/envs/hackthis/lib/python3.9/site-packages (from requests) (3.4)\r\n",
      "Requirement already satisfied: charset-normalizer<4,>=2 in /Users/cdraper/miniconda3/envs/hackthis/lib/python3.9/site-packages (from requests) (3.1.0)\r\n",
      "Requirement already satisfied: urllib3<1.27,>=1.21.1 in /Users/cdraper/miniconda3/envs/hackthis/lib/python3.9/site-packages (from requests) (1.26.16)\r\n",
      "Requirement already satisfied: attrs>=17.4.0 in /Users/cdraper/miniconda3/envs/hackthis/lib/python3.9/site-packages (from jsonschema<5.0.0,>=4.17.3->whylabs_toolkit) (23.1.0)\r\n",
      "Requirement already satisfied: pyrsistent!=0.17.0,!=0.17.1,!=0.17.2,>=0.14.0 in /Users/cdraper/miniconda3/envs/hackthis/lib/python3.9/site-packages (from jsonschema<5.0.0,>=4.17.3->whylabs_toolkit) (0.19.3)\r\n",
      "Requirement already satisfied: typing-extensions>=4.2.0 in /Users/cdraper/miniconda3/envs/hackthis/lib/python3.9/site-packages (from pydantic<2.0.0,>=1.10.4->whylabs_toolkit) (4.6.2)\r\n",
      "Requirement already satisfied: six>=1.5 in /Users/cdraper/miniconda3/envs/hackthis/lib/python3.9/site-packages (from python-dateutil>=2.8.2->pandas) (1.16.0)\r\n",
      "Requirement already satisfied: protobuf>=3.19.4 in /Users/cdraper/miniconda3/envs/hackthis/lib/python3.9/site-packages (from whylogs<2.0.0,>=1.1.26->whylabs_toolkit) (4.23.2)\r\n",
      "Requirement already satisfied: whylogs-sketching>=3.4.1.dev3 in /Users/cdraper/miniconda3/envs/hackthis/lib/python3.9/site-packages (from whylogs<2.0.0,>=1.1.26->whylabs_toolkit) (3.4.1.dev3)\r\n",
      "Note: you may need to restart the kernel to use updated packages.\n"
     ]
    }
   ],
   "source": [
    "%pip install whylabs_toolkit pandas requests\n"
   ]
  },
  {
   "cell_type": "markdown",
   "metadata": {
    "pycharm": {
     "name": "#%% md\n"
    }
   },
   "source": [
    "## Setup whylabs API connection\n",
    "\n",
    "First, set up the information to connect to WhyLabs. Update the demo_org_id and demo_api_key in the following before running it.\n",
    "\n",
    "The specified organization needs to exist, but the resource (model or dataset) doesn't have to.\n"
   ]
  },
  {
   "cell_type": "code",
   "execution_count": 8,
   "metadata": {
    "pycharm": {
     "name": "#%%\n"
    }
   },
   "outputs": [],
   "source": [
    "import pandas as pd\n",
    "import whylogs as why\n",
    "from smart_config.config import env_setup\n",
    "\n",
    "# demo_org_id = 'org-JR37ks'\n",
    "# demo_dataset_id = 'hack-25'\n",
    "# demo_api_key = 'HimBAeF4bp.YPMeRgc0xojeX4fWYEomP76MQpBRmpYCDeTSXBMP3dcCBRnidEnDm'\n",
    "# demo_endpoint = 'https://songbird.development.whylabsdev.com'\n",
    "\n",
    "demo_org_id = 'org-Ae8Sen'\n",
    "demo_dataset_id = 'hack-1'\n",
    "demo_api_key = 'Hsk5Q4FVCa.texoW2huaWOQm4ktvGNjGA2Y216C7I5stA2CXwYAsABchNsNIMnui'\n",
    "demo_endpoint = None # upload to prod\n",
    "\n",
    "if not demo_api_key:\n",
    "    raise Exception('Please provide an API key')\n",
    "\n",
    "env_setup(\n",
    "    org_id=demo_org_id,\n",
    "    dataset_id=demo_dataset_id,\n",
    "    api_key=demo_api_key,\n",
    "    whylabs_endpoint=demo_endpoint\n",
    ")"
   ]
  },
  {
   "cell_type": "markdown",
   "metadata": {
    "pycharm": {
     "name": "#%% md\n"
    }
   },
   "source": [
    "## Setup the monitored resource\n",
    "\n",
    "Now let's set up our monitored resource. The `get_or_create_resource` helper makes this trivial."
   ]
  },
  {
   "cell_type": "code",
   "execution_count": 9,
   "metadata": {
    "pycharm": {
     "name": "#%%\n"
    }
   },
   "outputs": [
    {
     "data": {
      "text/plain": "{'active': True,\n 'creation_time': 1689603596259,\n 'id': 'hack-1',\n 'model_category': 'MODEL',\n 'name': 'Hackathon model hack-1',\n 'org_id': 'org-Ae8Sen',\n 'time_period': 'P1D'}"
     },
     "execution_count": 9,
     "metadata": {},
     "output_type": "execute_result"
    }
   ],
   "source": [
    "from smart_config.resource import get_or_create_resource\n",
    "\n",
    "resource = get_or_create_resource(demo_org_id, demo_dataset_id, f'Hackathon model {demo_dataset_id}')\n",
    "resource"
   ]
  },
  {
   "cell_type": "markdown",
   "metadata": {
    "pycharm": {
     "name": "#%% md\n"
    }
   },
   "source": [
    "## Log and upload a reference profile\n",
    "\n",
    "Next we get the demo reference dataset, profile and upload it."
   ]
  },
  {
   "cell_type": "markdown",
   "metadata": {
    "pycharm": {
     "name": "#%% md\n"
    }
   },
   "source": [
    "## Update entity schema\n",
    "\n",
    "Let's check the inferred schema for the dataset. We may need to wait for the upload to be processed."
   ]
  },
  {
   "cell_type": "code",
   "execution_count": 10,
   "metadata": {
    "pycharm": {
     "name": "#%%\n"
    }
   },
   "outputs": [],
   "source": [
    "from smart_config.resource import wait_for_nonempty_schema, set_outputs, set_data_type\n",
    "from whylabs_toolkit.monitor import ColumnDataType\n",
    "\n",
    "# schema = wait_for_nonempty_schema(demo_org_id, demo_dataset_id)\n",
    "# schema"
   ]
  },
  {
   "cell_type": "markdown",
   "metadata": {
    "pycharm": {
     "name": "#%% md\n"
    }
   },
   "source": [
    "Our dataset has some output fields that don't use the naming convention, and some fields with the wrong inferred type. Let's fix that."
   ]
  },
  {
   "cell_type": "code",
   "execution_count": 11,
   "metadata": {
    "pycharm": {
     "name": "#%%\n"
    }
   },
   "outputs": [
    {
     "data": {
      "text/plain": "{'columns': {},\n 'metadata': {'author': 'system',\n              'updated_timestamp': 1689603648383,\n              'version': 6},\n 'metrics': {}}"
     },
     "execution_count": 11,
     "metadata": {},
     "output_type": "execute_result"
    }
   ],
   "source": [
    "schema = set_outputs(demo_org_id, demo_dataset_id, ['predicted', 'income'])\n",
    "schema = set_data_type(demo_org_id, demo_dataset_id, ColumnDataType.fractional, ['capital-gain', 'capital-loss'])\n",
    "schema"
   ]
  },
  {
   "cell_type": "code",
   "execution_count": 12,
   "metadata": {
    "pycharm": {
     "name": "#%%\n"
    }
   },
   "outputs": [
    {
     "name": "stderr",
     "output_type": "stream",
     "text": [
      "INFO:whylogs.api.writer.whylabs:checking: https://whylabs-public.s3.us-west-2.amazonaws.com/whylogs_config/whylabs_condition_count_disabled\n",
      "INFO:whylogs.api.writer.whylabs:checking: https://whylabs-public.s3.us-west-2.amazonaws.com/whylogs_config/whylabs_condition_count_disabled\n",
      "INFO:whylogs.api.writer.whylabs:headers are: {'x-amz-id-2': 'D0t6UI5MoUHyBVpDFO42jSrI+iAEUs/fwO3vm4yIuvqnpZvwHlXuiVxQdY+M4gSROIUwTYl1GsI=', 'x-amz-request-id': 'N3TBRND9R276VN14', 'Date': 'Mon, 17 Jul 2023 14:20:51 GMT', 'Last-Modified': 'Thu, 23 Feb 2023 17:53:29 GMT', 'ETag': '\"c4ca4238a0b923820dcc509a6f75849b\"', 'x-amz-server-side-encryption': 'AES256', 'Accept-Ranges': 'bytes', 'Content-Type': 'binary/octet-stream', 'Server': 'AmazonS3', 'Content-Length': '1'} code: 200\n",
      "INFO:whylogs.api.writer.whylabs:found the whylabs condition count disabled file so running uncompound on condition count metrics\n",
      "INFO:whylogs.api.writer.whylabs:Done uploading org-Ae8Sen/hack-1/1689603649163 to https://api.whylabsapp.com with API token ID: Hsk5Q4FVCa\n"
     ]
    }
   ],
   "source": [
    "from smart_config.ref_profile import check_create_ref_profile\n",
    "from smart_config.ref_profile import get_ref_profile_by_name\n",
    "\n",
    "ref_dataset_name = 'adult-train'\n",
    "ref_data = './data_randomized_drift_missing/adult/adult_reference_dataset.csv'\n",
    "\n",
    "ref_df = pd.read_csv(ref_data)\n",
    "demo_ref_profile = why.log(ref_df)\n",
    "\n",
    "check_create_ref_profile(demo_org_id, demo_dataset_id, ref_dataset_name, demo_ref_profile)"
   ]
  },
  {
   "cell_type": "markdown",
   "metadata": {
    "pycharm": {
     "name": "#%% md\n"
    }
   },
   "source": [
    "## Set up recommended monitors\n",
    "\n",
    "We're ready to set up the recommended monitors. We need to get the unique ID for the uploaded reference profile, so we use `get_ref_profile_by_name` to find the profile metadata."
   ]
  },
  {
   "cell_type": "code",
   "execution_count": 13,
   "metadata": {
    "pycharm": {
     "name": "#%%\n"
    }
   },
   "outputs": [
    {
     "data": {
      "text/plain": "'ref-jmHJ6e4fgUIde1FL'"
     },
     "execution_count": 13,
     "metadata": {},
     "output_type": "execute_result"
    }
   ],
   "source": [
    "ref_profile_metadata = get_ref_profile_by_name(demo_org_id, demo_dataset_id, ref_dataset_name)\n",
    "ref_profile_id = ref_profile_metadata.id\n",
    "ref_profile_id"
   ]
  },
  {
   "cell_type": "markdown",
   "metadata": {
    "pycharm": {
     "name": "#%% md\n"
    }
   },
   "source": [
    "Then we pass the reference profile into `setup_recommended_monitors`. This will look at the profile and generate tailored monitors."
   ]
  },
  {
   "cell_type": "code",
   "execution_count": null,
   "metadata": {
    "pycharm": {
     "name": "#%%\n",
     "is_executing": true
    }
   },
   "outputs": [
    {
     "name": "stderr",
     "output_type": "stream",
     "text": [
      "INFO:whylabs_toolkit.monitor.manager.monitor_setup:Did not find a monitor with unique-count-no-more-than-ref, creating a new one.\n",
      "INFO:whylabs_toolkit.monitor.manager.monitor_setup:Did not find a monitor with missing-value-ratio-stddev, creating a new one.\n"
     ]
    }
   ],
   "source": [
    "from smart_config.recommenders.whylabs_recommender import setup_recommended_monitors\n",
    "\n",
    "setup_recommended_monitors(org_id=demo_org_id, dataset_id=demo_dataset_id, ref_profile=demo_ref_profile, ref_profile_id=ref_profile_id)\n"
   ]
  },
  {
   "cell_type": "markdown",
   "metadata": {
    "pycharm": {
     "name": "#%% md\n"
    }
   },
   "source": [
    "## Upload batch data\n",
    "\n",
    "To see the monitors in action, we need some batch data. We'll upload 14 days of prepared demo data."
   ]
  },
  {
   "cell_type": "code",
   "execution_count": null,
   "metadata": {
    "pycharm": {
     "name": "#%%\n",
     "is_executing": true
    }
   },
   "outputs": [],
   "source": [
    "from datetime import datetime, timedelta\n",
    "current = datetime.now()\n",
    "ts = current - timedelta(days=13)\n",
    "\n",
    "for num in range(0, 14):\n",
    "    df = pd.read_csv(f'./data_randomized_drift_missing/adult/adult_monitored_dataset_{num:0>2}.csv')\n",
    "    results = why.log(df)\n",
    "    results.profile().set_dataset_timestamp(ts)\n",
    "    results.writer('whylabs').write()\n",
    "    ts = ts + timedelta(days=1)"
   ]
  },
  {
   "cell_type": "code",
   "execution_count": null,
   "metadata": {
    "pycharm": {
     "name": "#%%\n",
     "is_executing": true
    }
   },
   "outputs": [],
   "source": [
    "from IPython.display import display, HTML\n",
    "endpoint = 'https://observatory.development.whylabsdev.com' if demo_endpoint else 'https://hub.whylabsapp.com'\n",
    "display(HTML(f\"\"\"Go to the WhyLabs feature view <a target=\"_blank\" href=\"{endpoint}/resources/{demo_dataset_id}/columns/gender?targetOrgId={demo_org_id}\">WhyLabs feature view</a> and click Preview to see the results.\"\"\" ))\n",
    "\n",
    "display(HTML(f\"\"\"Investigate the differences between the batch profiles and reference profile in the  <a target=\"_blank\" href=\"{endpoint}/resources/{demo_dataset_id}/profiles?targetOrgId={demo_org_id}\">WhyLabs profile view</a>\"\"\"))"
   ]
  },
  {
   "cell_type": "markdown",
   "metadata": {
    "pycharm": {
     "name": "#%% md\n"
    }
   },
   "source": [
    "## Further recommendation scenarios\n",
    "\n",
    "All of these are **to be implemented**.\n",
    "\n",
    "### Using semantic type information\n",
    "The recommendations make use of additional information about the semantic type of the columns (e.g., Age, Gender, Country)\n",
    "```\n",
    "type_hints = get_semantic_types(ref_profile)\n",
    "setup_recommended_monitors(\n",
    "    org_id=demo_org_id,\n",
    "    dataset_id=demo_dataset_id,\n",
    "    ref_profile=demo_ref_profile,\n",
    "    ref_profile_id=ref_profile_id,\n",
    "    type_hints=type_hints)\n",
    "```\n",
    "The same information might be used to recommend condition counts\n",
    "```\n",
    "conditions = recommend_condition_counts(type_hints)\n",
    "schema = DeclarativeSchema(STANDARD_RESOLVER)\n",
    "for c in conditions:\n",
    "    schema.add_resolver_spec(column_name=c.column, metrics=[ConditionCountMetricSpec(c.condition)])\n",
    "why.log(batch_df, schema=schema)\n",
    "```\n",
    "\n",
    "The same information might be used to recommend segments for fairness and bias\n",
    "```\n",
    "segments = recommend_segments(type_hints)\n",
    "segmented_ref_profile = why.log(ref_df, schema=DatasetSchema(segments=segments))\n",
    "```\n",
    "\n",
    "The type hints can be stored as part of the dataset metadata, and retrieved when needed\n",
    "```\n",
    "# TODO\n",
    "```\n",
    "\n",
    "### Monitor restrictions\n",
    "\n",
    "Restrict what recommendations are generated, by specifying which categories or metrics they want\n",
    "monitored.\n",
    "\n",
    "```\n",
    "setup_recommended_monitors(\n",
    "    org_id=demo_org_id,\n",
    "    dataset_id=demo_dataset_id,\n",
    "    ref_profile=demo_ref_profile,\n",
    "    ref_profile_id=ref_profile_id,\n",
    "    categories=[MetricCategory.DataQuality]\n",
    "```\n",
    "\n",
    "### Column restrictions\n",
    "\n",
    "Limit which columns are included in the recommended monitors, for example based on feature weights.\n",
    "\n",
    "```\n",
    "setup_recommended_monitors(\n",
    "    org_id=demo_org_id,\n",
    "    dataset_id=demo_dataset_id,\n",
    "    ref_profile=demo_ref_profile,\n",
    "    ref_profile_id=ref_profile_id,\n",
    "    analysis_metrics=[ComplexMetrics.histogram],\n",
    "    columns=top_n_by_weight(demo_org_id, demo_dataset_id, includeDiscrete=False, includeNonDiscrete=True))\n",
    "```\n",
    "\n",
    "\n",
    "### Policy-adjusted recommendations\n",
    "\n",
    "Specify policies to help tailor the recommendation.\n",
    "\n",
    "```\n",
    "setup_recommended_monitors(\n",
    "    org_id=demo_org_id,\n",
    "    dataset_id=demo_dataset_id,\n",
    "    ref_profile=demo_ref_profile,\n",
    "    ref_profile_id=ref_profile_id,\n",
    "    policies=[FalsePositiveTolerance('low'), SeasonalData(period='weekly')],\n",
    "    )\n",
    "```\n",
    "\n",
    "### Explanations\n",
    "\n",
    "Ask for explanations of the recommendations.\n",
    "\n",
    "```\n",
    "explain_recommended_monitors(\n",
    "    org_id=demo_org_id,\n",
    "    dataset_id=demo_dataset_id,\n",
    "    ref_profile=demo_ref_profile,\n",
    "    ref_profile_id=ref_profile_id)\n",
    "\n",
    "[\n",
    "   { 'monitor': 'unique-count-no-more-than-ref', 'reasons': ['Column has low cardinality values that likely come from a fixed set of categorical values'] },\n",
    "   ...\n",
    "]\n",
    "```\n",
    "\n"
   ]
  },
  {
   "cell_type": "markdown",
   "metadata": {
    "pycharm": {
     "name": "#%% md\n"
    }
   },
   "source": [
    "### Default recommendation with no reference profile\n",
    "\n",
    "Ask for a default set of recommended monitors, with no reference data available."
   ]
  },
  {
   "cell_type": "code",
   "execution_count": null,
   "metadata": {
    "pycharm": {
     "name": "#%%\n",
     "is_executing": true
    }
   },
   "outputs": [],
   "source": [
    "# setup_recommended_monitors(org_id=demo_org_id, dataset_id=demo_dataset_id)"
   ]
  }
 ],
 "metadata": {
  "kernelspec": {
   "display_name": "Python 3 (ipykernel)",
   "language": "python",
   "name": "python3"
  },
  "language_info": {
   "codemirror_mode": {
    "name": "ipython",
    "version": 3
   },
   "file_extension": ".py",
   "mimetype": "text/x-python",
   "name": "python",
   "nbconvert_exporter": "python",
   "pygments_lexer": "ipython3",
   "version": "3.9.16"
  }
 },
 "nbformat": 4,
 "nbformat_minor": 1
}