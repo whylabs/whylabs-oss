{
 "cells": [
  {
   "cell_type": "code",
   "execution_count": 1,
   "metadata": {},
   "outputs": [],
   "source": [
    "from data_merger.data_export_manager import DataExportManager\n",
    "import pandas as pd\n",
    "\n",
    "pd.set_option('display.max_rows', 100)\n",
    "pd.set_option('display.max_columns', 500)\n",
    "pd.set_option('display.width', 2000)\n",
    "\n",
    "bucket = \"whylabs-export\"\n",
    "prefix = \"MyPrefix\"\n",
    "manager = DataExportManager(bucket=bucket, prefix=prefix)"
   ]
  },
  {
   "cell_type": "code",
   "execution_count": null,
   "metadata": {},
   "outputs": [],
   "source": [
    "# Attempt to download the bucket's metadata, which contains a list of all profiles\n",
    "df = manager.load_metadata()\n",
    "df"
   ]
  },
  {
   "cell_type": "code",
   "execution_count": null,
   "metadata": {},
   "outputs": [],
   "source": [
    "# Download the profiles based on the metadata\n",
    "manager.download_profiles(force_update=False)"
   ]
  },
  {
   "cell_type": "code",
   "execution_count": null,
   "metadata": {},
   "outputs": [],
   "source": [
    "# Do some manual exploration to see which non-segmented datasets have the most profiles\n",
    "\n",
    "non_segmented = df[df[\"segment\"].isna()]\n",
    "\n",
    "# group the dataframe by the count of each org_id/dataset_id\n",
    "grouped_df = non_segmented.groupby(['org_id', 'dataset_id']).size().reset_index(name='count')\n",
    "\n",
    "# sort from highest to lowest count\n",
    "grouped_df.sort_values(by='count', ascending=False, inplace=True)\n",
    "grouped_df"
   ]
  },
  {
   "cell_type": "code",
   "execution_count": 5,
   "metadata": {},
   "outputs": [],
   "source": [
    "org_id = \"org-xxx\"\n",
    "dataset_id = \"model-1\""
   ]
  },
  {
   "cell_type": "code",
   "execution_count": null,
   "metadata": {},
   "outputs": [],
   "source": [
    "manager.list_orgs()"
   ]
  },
  {
   "cell_type": "code",
   "execution_count": null,
   "metadata": {},
   "outputs": [],
   "source": [
    "manager.list_models()"
   ]
  },
  {
   "cell_type": "code",
   "execution_count": null,
   "metadata": {},
   "outputs": [],
   "source": [
    "\n",
    "manager.preview_data(org_id, dataset_id)\n"
   ]
  },
  {
   "cell_type": "code",
   "execution_count": null,
   "metadata": {},
   "outputs": [],
   "source": [
    "manager.list_profile_metrics(org_id, dataset_id)"
   ]
  },
  {
   "cell_type": "code",
   "execution_count": null,
   "metadata": {},
   "outputs": [],
   "source": [
    "profile_columns = manager.list_profile_columns(org_id, dataset_id)\n",
    "profile_columns"
   ]
  },
  {
   "cell_type": "code",
   "execution_count": null,
   "metadata": {},
   "outputs": [],
   "source": [
    "columns = profile_columns['column_name'].tolist()[:3]\n",
    "manager.show_column_plot(org_id, dataset_id, columns , ['distribution/mean', 'counts/n', 'distribution/min'])\n"
   ]
  },
  {
   "cell_type": "code",
   "execution_count": null,
   "metadata": {},
   "outputs": [],
   "source": [
    "from whylogs.viz import NotebookProfileVisualizer\n",
    "\n",
    "\n",
    "# Can compare time ranges, even across different datasets\n",
    "\n",
    "dec_2024 = 1735390861000\n",
    "\n",
    "first_half_2024_dataset_1, total = manager.get_merged_profile(end=dec_2024 , org_id=org_id, dataset_id=\"model-42\")\n",
    "print(f\"Found {total} profiles for the first dataset\")\n",
    "\n",
    "second_half_2024_dataset_2, total = manager.get_merged_profile(start=dec_2024 , org_id=org_id, dataset_id=\"model-42\")\n",
    "print(f\"Found {total} profiles for the second dataset\")\n",
    "\n",
    "visualization = NotebookProfileVisualizer()\n",
    "visualization.set_profiles(target_profile_view=first_half_2024_dataset_1, reference_profile_view=second_half_2024_dataset_2)"
   ]
  },
  {
   "cell_type": "code",
   "execution_count": null,
   "metadata": {},
   "outputs": [],
   "source": [
    "visualization.summary_drift_report()"
   ]
  },
  {
   "cell_type": "code",
   "execution_count": null,
   "metadata": {},
   "outputs": [],
   "source": [
    "# Compare select features between two profiles\n",
    "visualization.double_histogram(feature_name=[\"feature1\"])"
   ]
  },
  {
   "cell_type": "code",
   "execution_count": null,
   "metadata": {},
   "outputs": [],
   "source": [
    "# Can compare using reference profiles from the reference profile export as well\n",
    "\n",
    "reference_bucket = \"whylabs-reference\" # the bucket where the reference profiles were exported\n",
    "reference_manager = DataExportManager(bucket=reference_bucket, prefix=prefix)\n",
    "df = reference_manager.load_metadata()\n",
    "reference_manager.download_profiles(force_update=False)\n",
    "\n",
    "df[df[\"org_id\"] == org_id][df[\"dataset_id\"] == dataset_id]"
   ]
  },
  {
   "cell_type": "code",
   "execution_count": null,
   "metadata": {},
   "outputs": [],
   "source": [
    "ref = reference_manager.get_reference_profile(org_id, dataset_id, \"ref-Aqid1ta9omNxULJF\")\n",
    "\n",
    "ref.to_pandas()"
   ]
  },
  {
   "cell_type": "code",
   "execution_count": null,
   "metadata": {},
   "outputs": [],
   "source": [
    "\n",
    "visualization = NotebookProfileVisualizer()\n",
    "visualization.set_profiles(target_profile_view=first_half_2024_dataset_1, reference_profile_view=ref)\n",
    "visualization.summary_drift_report()"
   ]
  },
  {
   "cell_type": "markdown",
   "metadata": {},
   "source": [
    "## Further Comparisons\n",
    "\n",
    "See the sample visualization notebook for more examples of generating comparisons between multiple profiles\n",
    "\n",
    "- https://github.com/whylabs/whylogs/blob/mainline/python/examples/basic/Notebook_Profile_Visualizer.ipynb"
   ]
  }
 ],
 "metadata": {
  "kernelspec": {
   "display_name": ".venv",
   "language": "python",
   "name": "python3"
  },
  "language_info": {
   "codemirror_mode": {
    "name": "ipython",
    "version": 3
   },
   "file_extension": ".py",
   "mimetype": "text/x-python",
   "name": "python",
   "nbconvert_exporter": "python",
   "pygments_lexer": "ipython3",
   "version": "3.12.3"
  }
 },
 "nbformat": 4,
 "nbformat_minor": 2
}
